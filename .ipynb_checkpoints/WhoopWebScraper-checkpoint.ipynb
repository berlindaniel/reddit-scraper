{
 "cells": [
  {
   "cell_type": "code",
   "execution_count": 4,
   "metadata": {},
   "outputs": [
    {
     "name": "stdout",
     "output_type": "stream",
     "text": [
      "Collection of Whoop Teams\n",
      "Wiki created for Frequently Asked Questions\n",
      "Charging my Whoop and Teenage Daughter Had an Observation\n",
      "Has anyone tried this Apollo wearable thing that claims to improve HRV?\n",
      "Heart rate accuracy w sports like BJJ and boxing\n",
      "Activity selection impact on heart rate monitoring/calc?\n",
      "Do we think this is COVID?\n",
      "Vibration on iOS when I do anything on my phone since setting up the app\n",
      "Buying as a Gift - Membership Question\n",
      "Replacement band alternatives\n"
     ]
    }
   ],
   "source": [
    "import requests\n",
    "import praw\n",
    "import pandas as pd\n",
    "from bs4 import BeautifulSoup as bs\n",
    "\n",
    "url = 'https://www.reddit.com/r/whoop/'\n",
    "page = requests.get(url)\n",
    "reddit = praw.Reddit(client_id='U9mkNlCxxefAXA', client_secret='-8omzmq-RoY_Sa2b6iGh0FSdv9U', user_agent='web scraper')"
   ]
  },
  {
   "cell_type": "code",
   "execution_count": 5,
   "metadata": {},
   "outputs": [
    {
     "name": "stdout",
     "output_type": "stream",
     "text": [
      "Collection of Whoop Teams\n",
      "Wiki created for Frequently Asked Questions\n",
      "Charging my Whoop and Teenage Daughter Had an Observation\n",
      "Has anyone tried this Apollo wearable thing that claims to improve HRV?\n",
      "Heart rate accuracy w sports like BJJ and boxing\n",
      "Activity selection impact on heart rate monitoring/calc?\n",
      "Do we think this is COVID?\n",
      "Vibration on iOS when I do anything on my phone since setting up the app\n",
      "Buying as a Gift - Membership Question\n",
      "Replacement band alternatives\n"
     ]
    }
   ],
   "source": [
    "hot_posts = reddit.subreddit('whoop').hot(limit=10)\n",
    "for post in hot_posts:\n",
    "    print(post.title)"
   ]
  },
  {
   "cell_type": "code",
   "execution_count": 6,
   "metadata": {},
   "outputs": [
    {
     "name": "stdout",
     "output_type": "stream",
     "text": [
      "                                                title  score      id  \\\n",
      "0                           Collection of Whoop Teams     38  eoleux   \n",
      "1         Wiki created for Frequently Asked Questions     39  gi4fxc   \n",
      "2   Charging my Whoop and Teenage Daughter Had an ...      4  jj4s0c   \n",
      "3   Has anyone tried this Apollo wearable thing th...     25  jioben   \n",
      "4    Heart rate accuracy w sports like BJJ and boxing      2  jiz6cm   \n",
      "..                                                ...    ...     ...   \n",
      "95    Can't upload a profile picture : Any solution ?      2  jf7f1n   \n",
      "96     MENTAL HEALTH MATTERS (Team code: COMM-270E33)      9  jexnhl   \n",
      "97                                              Noice     21  jeptvq   \n",
      "98                  Amazing workout: clean the garage      6  jey6cz   \n",
      "99  If you're a data nerd, habit dash + WHOOP is a...     12  jeqq8m   \n",
      "\n",
      "   subreddit                                                url  num_comments  \\\n",
      "0      whoop  https://www.reddit.com/r/whoop/comments/eoleux...           137   \n",
      "1      whoop  https://www.reddit.com/r/whoop/comments/gi4fxc...             7   \n",
      "2      whoop  https://www.reddit.com/r/whoop/comments/jj4s0c...             3   \n",
      "3      whoop                    https://i.imgur.com/IKqDSo9.jpg            47   \n",
      "4      whoop  https://www.reddit.com/r/whoop/comments/jiz6cm...             9   \n",
      "..       ...                                                ...           ...   \n",
      "95     whoop  https://www.reddit.com/r/whoop/comments/jf7f1n...             1   \n",
      "96     whoop  https://www.reddit.com/r/whoop/comments/jexnhl...             2   \n",
      "97     whoop                    https://i.imgur.com/zXNyfDJ.jpg             6   \n",
      "98     whoop  https://www.reddit.com/r/whoop/comments/jey6cz...             6   \n",
      "99     whoop                  https://imgur.com/gallery/HbvR7iD            15   \n",
      "\n",
      "                                                 body       created  \n",
      "0   Hi Everyone. If you would like to include your...  1.579038e+09  \n",
      "1   Pls add the frequently asked questions so we c...  1.589288e+09  \n",
      "2   If you have a teenager in your house than you ...  1.603846e+09  \n",
      "3                                                      1.603778e+09  \n",
      "4   There are a lot of posts about the inaccuracy ...  1.603826e+09  \n",
      "..                                                ...           ...  \n",
      "95  Tried this on my phone & on my laptop, both in...  1.603289e+09  \n",
      "96  Hi everyone! I've been a big Whoop stan since ...  1.603254e+09  \n",
      "97                                                     1.603231e+09  \n",
      "98  I hit 13.8 doing just under 90 minutes of clea...  1.603255e+09  \n",
      "99                                                     1.603233e+09  \n",
      "\n",
      "[100 rows x 8 columns]\n"
     ]
    }
   ],
   "source": [
    "posts = []\n",
    "ml_subreddit = reddit.subreddit('whoop')\n",
    "for post in ml_subreddit.hot(limit=100):\n",
    "    posts.append([post.title, post.score, post.id, post.subreddit, post.url, post.num_comments, post.selftext, post.created])\n",
    "posts = pd.DataFrame(posts,columns=['title', 'score', 'id', 'subreddit', 'url', 'num_comments', 'body', 'created'])\n",
    "print(posts)"
   ]
  },
  {
   "cell_type": "code",
   "execution_count": null,
   "metadata": {},
   "outputs": [],
   "source": []
  }
 ],
 "metadata": {
  "kernelspec": {
   "display_name": "Python 3",
   "language": "python",
   "name": "python3"
  },
  "language_info": {
   "codemirror_mode": {
    "name": "ipython",
    "version": 3
   },
   "file_extension": ".py",
   "mimetype": "text/x-python",
   "name": "python",
   "nbconvert_exporter": "python",
   "pygments_lexer": "ipython3",
   "version": "3.7.3"
  }
 },
 "nbformat": 4,
 "nbformat_minor": 4
}
