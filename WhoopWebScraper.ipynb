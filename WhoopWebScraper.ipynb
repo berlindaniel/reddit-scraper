{
 "cells": [
  {
   "cell_type": "code",
   "execution_count": 26,
   "metadata": {},
   "outputs": [],
   "source": [
    "import requests\n",
    "import praw\n",
    "import pandas as pd\n",
    "from bs4 import BeautifulSoup as bs\n",
    "from monkeylearn import MonkeyLearn\n",
    "import matplotlib.pyplot as plt\n",
    "import numpy as np\n",
    "from matplotlib import colors\n",
    "from collections import Counter\n",
    "\n",
    "reddit = praw.Reddit(client_id='U9mkNlCxxefAXA', client_secret='-8omzmq-RoY_Sa2b6iGh0FSdv9U', user_agent='web scraper')"
   ]
  },
  {
   "cell_type": "code",
   "execution_count": 4,
   "metadata": {},
   "outputs": [
    {
     "name": "stdout",
     "output_type": "stream",
     "text": [
      "Collection of Whoop Teams\n",
      "Wiki created for Frequently Asked Questions\n",
      "Charging my Whoop and Teenage Daughter Had an Observation\n",
      "Has anyone tried this Apollo wearable thing that claims to improve HRV?\n",
      "Heart rate accuracy w sports like BJJ and boxing\n",
      "Activity selection impact on heart rate monitoring/calc?\n",
      "Do we think this is COVID?\n",
      "Vibration on iOS when I do anything on my phone since setting up the app\n",
      "Buying as a Gift - Membership Question\n",
      "Replacement band alternatives\n"
     ]
    }
   ],
   "source": [
    "hot_posts = reddit.subreddit('whoop').hot(limit=10)\n",
    "for post in hot_posts:\n",
    "    print(post.title)"
   ]
  },
  {
   "cell_type": "code",
   "execution_count": 5,
   "metadata": {},
   "outputs": [
    {
     "data": {
      "text/html": [
       "<div>\n",
       "<style scoped>\n",
       "    .dataframe tbody tr th:only-of-type {\n",
       "        vertical-align: middle;\n",
       "    }\n",
       "\n",
       "    .dataframe tbody tr th {\n",
       "        vertical-align: top;\n",
       "    }\n",
       "\n",
       "    .dataframe thead th {\n",
       "        text-align: right;\n",
       "    }\n",
       "</style>\n",
       "<table border=\"1\" class=\"dataframe\">\n",
       "  <thead>\n",
       "    <tr style=\"text-align: right;\">\n",
       "      <th></th>\n",
       "      <th>title</th>\n",
       "      <th>score</th>\n",
       "      <th>id</th>\n",
       "      <th>subreddit</th>\n",
       "      <th>url</th>\n",
       "      <th>num_comments</th>\n",
       "      <th>body</th>\n",
       "      <th>created</th>\n",
       "    </tr>\n",
       "  </thead>\n",
       "  <tbody>\n",
       "    <tr>\n",
       "      <th>0</th>\n",
       "      <td>Collection of Whoop Teams</td>\n",
       "      <td>38</td>\n",
       "      <td>eoleux</td>\n",
       "      <td>whoop</td>\n",
       "      <td>https://www.reddit.com/r/whoop/comments/eoleux...</td>\n",
       "      <td>137</td>\n",
       "      <td>Hi Everyone. If you would like to include your...</td>\n",
       "      <td>1.579038e+09</td>\n",
       "    </tr>\n",
       "    <tr>\n",
       "      <th>1</th>\n",
       "      <td>Wiki created for Frequently Asked Questions</td>\n",
       "      <td>39</td>\n",
       "      <td>gi4fxc</td>\n",
       "      <td>whoop</td>\n",
       "      <td>https://www.reddit.com/r/whoop/comments/gi4fxc...</td>\n",
       "      <td>7</td>\n",
       "      <td>Pls add the frequently asked questions so we c...</td>\n",
       "      <td>1.589288e+09</td>\n",
       "    </tr>\n",
       "    <tr>\n",
       "      <th>2</th>\n",
       "      <td>Charging my Whoop and Teenage Daughter Had an ...</td>\n",
       "      <td>7</td>\n",
       "      <td>jj4s0c</td>\n",
       "      <td>whoop</td>\n",
       "      <td>https://www.reddit.com/r/whoop/comments/jj4s0c...</td>\n",
       "      <td>3</td>\n",
       "      <td>If you have a teenager in your house than you ...</td>\n",
       "      <td>1.603846e+09</td>\n",
       "    </tr>\n",
       "    <tr>\n",
       "      <th>3</th>\n",
       "      <td>Has anyone tried this Apollo wearable thing th...</td>\n",
       "      <td>26</td>\n",
       "      <td>jioben</td>\n",
       "      <td>whoop</td>\n",
       "      <td>https://i.imgur.com/IKqDSo9.jpg</td>\n",
       "      <td>47</td>\n",
       "      <td></td>\n",
       "      <td>1.603778e+09</td>\n",
       "    </tr>\n",
       "    <tr>\n",
       "      <th>4</th>\n",
       "      <td>Heart rate accuracy w sports like BJJ and boxing</td>\n",
       "      <td>2</td>\n",
       "      <td>jiz6cm</td>\n",
       "      <td>whoop</td>\n",
       "      <td>https://www.reddit.com/r/whoop/comments/jiz6cm...</td>\n",
       "      <td>9</td>\n",
       "      <td>There are a lot of posts about the inaccuracy ...</td>\n",
       "      <td>1.603826e+09</td>\n",
       "    </tr>\n",
       "    <tr>\n",
       "      <th>...</th>\n",
       "      <td>...</td>\n",
       "      <td>...</td>\n",
       "      <td>...</td>\n",
       "      <td>...</td>\n",
       "      <td>...</td>\n",
       "      <td>...</td>\n",
       "      <td>...</td>\n",
       "      <td>...</td>\n",
       "    </tr>\n",
       "    <tr>\n",
       "      <th>95</th>\n",
       "      <td>Can't upload a profile picture : Any solution ?</td>\n",
       "      <td>2</td>\n",
       "      <td>jf7f1n</td>\n",
       "      <td>whoop</td>\n",
       "      <td>https://www.reddit.com/r/whoop/comments/jf7f1n...</td>\n",
       "      <td>1</td>\n",
       "      <td>Tried this on my phone &amp; on my laptop, both in...</td>\n",
       "      <td>1.603289e+09</td>\n",
       "    </tr>\n",
       "    <tr>\n",
       "      <th>96</th>\n",
       "      <td>MENTAL HEALTH MATTERS (Team code: COMM-270E33)</td>\n",
       "      <td>9</td>\n",
       "      <td>jexnhl</td>\n",
       "      <td>whoop</td>\n",
       "      <td>https://www.reddit.com/r/whoop/comments/jexnhl...</td>\n",
       "      <td>2</td>\n",
       "      <td>Hi everyone! I've been a big Whoop stan since ...</td>\n",
       "      <td>1.603254e+09</td>\n",
       "    </tr>\n",
       "    <tr>\n",
       "      <th>97</th>\n",
       "      <td>Noice</td>\n",
       "      <td>22</td>\n",
       "      <td>jeptvq</td>\n",
       "      <td>whoop</td>\n",
       "      <td>https://i.imgur.com/zXNyfDJ.jpg</td>\n",
       "      <td>6</td>\n",
       "      <td></td>\n",
       "      <td>1.603231e+09</td>\n",
       "    </tr>\n",
       "    <tr>\n",
       "      <th>98</th>\n",
       "      <td>Amazing workout: clean the garage</td>\n",
       "      <td>7</td>\n",
       "      <td>jey6cz</td>\n",
       "      <td>whoop</td>\n",
       "      <td>https://www.reddit.com/r/whoop/comments/jey6cz...</td>\n",
       "      <td>6</td>\n",
       "      <td>I hit 13.8 doing just under 90 minutes of clea...</td>\n",
       "      <td>1.603255e+09</td>\n",
       "    </tr>\n",
       "    <tr>\n",
       "      <th>99</th>\n",
       "      <td>If you're a data nerd, habit dash + WHOOP is a...</td>\n",
       "      <td>13</td>\n",
       "      <td>jeqq8m</td>\n",
       "      <td>whoop</td>\n",
       "      <td>https://imgur.com/gallery/HbvR7iD</td>\n",
       "      <td>15</td>\n",
       "      <td></td>\n",
       "      <td>1.603233e+09</td>\n",
       "    </tr>\n",
       "  </tbody>\n",
       "</table>\n",
       "<p>100 rows × 8 columns</p>\n",
       "</div>"
      ],
      "text/plain": [
       "                                                title  score      id  \\\n",
       "0                           Collection of Whoop Teams     38  eoleux   \n",
       "1         Wiki created for Frequently Asked Questions     39  gi4fxc   \n",
       "2   Charging my Whoop and Teenage Daughter Had an ...      7  jj4s0c   \n",
       "3   Has anyone tried this Apollo wearable thing th...     26  jioben   \n",
       "4    Heart rate accuracy w sports like BJJ and boxing      2  jiz6cm   \n",
       "..                                                ...    ...     ...   \n",
       "95    Can't upload a profile picture : Any solution ?      2  jf7f1n   \n",
       "96     MENTAL HEALTH MATTERS (Team code: COMM-270E33)      9  jexnhl   \n",
       "97                                              Noice     22  jeptvq   \n",
       "98                  Amazing workout: clean the garage      7  jey6cz   \n",
       "99  If you're a data nerd, habit dash + WHOOP is a...     13  jeqq8m   \n",
       "\n",
       "   subreddit                                                url  num_comments  \\\n",
       "0      whoop  https://www.reddit.com/r/whoop/comments/eoleux...           137   \n",
       "1      whoop  https://www.reddit.com/r/whoop/comments/gi4fxc...             7   \n",
       "2      whoop  https://www.reddit.com/r/whoop/comments/jj4s0c...             3   \n",
       "3      whoop                    https://i.imgur.com/IKqDSo9.jpg            47   \n",
       "4      whoop  https://www.reddit.com/r/whoop/comments/jiz6cm...             9   \n",
       "..       ...                                                ...           ...   \n",
       "95     whoop  https://www.reddit.com/r/whoop/comments/jf7f1n...             1   \n",
       "96     whoop  https://www.reddit.com/r/whoop/comments/jexnhl...             2   \n",
       "97     whoop                    https://i.imgur.com/zXNyfDJ.jpg             6   \n",
       "98     whoop  https://www.reddit.com/r/whoop/comments/jey6cz...             6   \n",
       "99     whoop                  https://imgur.com/gallery/HbvR7iD            15   \n",
       "\n",
       "                                                 body       created  \n",
       "0   Hi Everyone. If you would like to include your...  1.579038e+09  \n",
       "1   Pls add the frequently asked questions so we c...  1.589288e+09  \n",
       "2   If you have a teenager in your house than you ...  1.603846e+09  \n",
       "3                                                      1.603778e+09  \n",
       "4   There are a lot of posts about the inaccuracy ...  1.603826e+09  \n",
       "..                                                ...           ...  \n",
       "95  Tried this on my phone & on my laptop, both in...  1.603289e+09  \n",
       "96  Hi everyone! I've been a big Whoop stan since ...  1.603254e+09  \n",
       "97                                                     1.603231e+09  \n",
       "98  I hit 13.8 doing just under 90 minutes of clea...  1.603255e+09  \n",
       "99                                                     1.603233e+09  \n",
       "\n",
       "[100 rows x 8 columns]"
      ]
     },
     "execution_count": 5,
     "metadata": {},
     "output_type": "execute_result"
    }
   ],
   "source": [
    "posts = []\n",
    "whoop_subreddit = reddit.subreddit('whoop')\n",
    "for post in whoop_subreddit.hot(limit=100):\n",
    "    posts.append([post.title, post.score, post.id, post.subreddit, post.url, post.num_comments, post.selftext, post.created])\n",
    "posts = pd.DataFrame(posts,columns=['title', 'score', 'id', 'subreddit', 'url', 'num_comments', 'body', 'created'])\n",
    "posts"
   ]
  },
  {
   "cell_type": "code",
   "execution_count": 61,
   "metadata": {},
   "outputs": [
    {
     "ename": "PlanQueryLimitError",
     "evalue": "Error PLAN_QUERY_LIMIT: Request Throttled. You do not have enough queries left to perform this action. 54 queries are required, but you have 0 queries remaining.",
     "output_type": "error",
     "traceback": [
      "\u001b[0;31m---------------------------------------------------------------------------\u001b[0m",
      "\u001b[0;31mPlanQueryLimitError\u001b[0m                       Traceback (most recent call last)",
      "\u001b[0;32m<ipython-input-61-6796ca31872c>\u001b[0m in \u001b[0;36m<module>\u001b[0;34m\u001b[0m\n\u001b[1;32m      4\u001b[0m \u001b[0mmodel_id\u001b[0m \u001b[0;34m=\u001b[0m \u001b[0;34m'cl_pi3C7JiL'\u001b[0m\u001b[0;34m\u001b[0m\u001b[0;34m\u001b[0m\u001b[0m\n\u001b[1;32m      5\u001b[0m \u001b[0mtitle_result\u001b[0m \u001b[0;34m=\u001b[0m \u001b[0mml\u001b[0m\u001b[0;34m.\u001b[0m\u001b[0mclassifiers\u001b[0m\u001b[0;34m.\u001b[0m\u001b[0mclassify\u001b[0m\u001b[0;34m(\u001b[0m\u001b[0mmodel_id\u001b[0m\u001b[0;34m,\u001b[0m \u001b[0mtitle_data\u001b[0m\u001b[0;34m)\u001b[0m\u001b[0;34m\u001b[0m\u001b[0;34m\u001b[0m\u001b[0m\n\u001b[0;32m----> 6\u001b[0;31m \u001b[0mbody_result\u001b[0m \u001b[0;34m=\u001b[0m \u001b[0mml\u001b[0m\u001b[0;34m.\u001b[0m\u001b[0mclassifiers\u001b[0m\u001b[0;34m.\u001b[0m\u001b[0mclassify\u001b[0m\u001b[0;34m(\u001b[0m\u001b[0mmodel_id\u001b[0m\u001b[0;34m,\u001b[0m \u001b[0mbody_data\u001b[0m\u001b[0;34m)\u001b[0m\u001b[0;34m\u001b[0m\u001b[0;34m\u001b[0m\u001b[0m\n\u001b[0m",
      "\u001b[0;32m~/miniconda3/lib/python3.7/site-packages/monkeylearn/classification.py\u001b[0m in \u001b[0;36mclassify\u001b[0;34m(self, model_id, data, production_model, batch_size, auto_batch, retry_if_throttled)\u001b[0m\n\u001b[1;32m    110\u001b[0m             raw_response = self.make_request('POST', url, data_dict,\n\u001b[1;32m    111\u001b[0m                                              retry_if_throttled=retry_if_throttled)\n\u001b[0;32m--> 112\u001b[0;31m             \u001b[0mresponse\u001b[0m\u001b[0;34m.\u001b[0m\u001b[0madd_raw_response\u001b[0m\u001b[0;34m(\u001b[0m\u001b[0mraw_response\u001b[0m\u001b[0;34m)\u001b[0m\u001b[0;34m\u001b[0m\u001b[0;34m\u001b[0m\u001b[0m\n\u001b[0m\u001b[1;32m    113\u001b[0m \u001b[0;34m\u001b[0m\u001b[0m\n\u001b[1;32m    114\u001b[0m         \u001b[0;32mreturn\u001b[0m \u001b[0mresponse\u001b[0m\u001b[0;34m\u001b[0m\u001b[0;34m\u001b[0m\u001b[0m\n",
      "\u001b[0;32m~/miniconda3/lib/python3.7/site-packages/monkeylearn/response.py\u001b[0m in \u001b[0;36madd_raw_response\u001b[0;34m(self, raw_response)\u001b[0m\n\u001b[1;32m     74\u001b[0m         \u001b[0mself\u001b[0m\u001b[0;34m.\u001b[0m\u001b[0mraw_responses\u001b[0m\u001b[0;34m.\u001b[0m\u001b[0mappend\u001b[0m\u001b[0;34m(\u001b[0m\u001b[0mraw_response\u001b[0m\u001b[0;34m)\u001b[0m\u001b[0;34m\u001b[0m\u001b[0;34m\u001b[0m\u001b[0m\n\u001b[1;32m     75\u001b[0m         \u001b[0;32mif\u001b[0m \u001b[0mraw_response\u001b[0m\u001b[0;34m.\u001b[0m\u001b[0mstatus_code\u001b[0m \u001b[0;34m!=\u001b[0m \u001b[0mrequests\u001b[0m\u001b[0;34m.\u001b[0m\u001b[0mcodes\u001b[0m\u001b[0;34m.\u001b[0m\u001b[0mok\u001b[0m\u001b[0;34m:\u001b[0m\u001b[0;34m\u001b[0m\u001b[0;34m\u001b[0m\u001b[0m\n\u001b[0;32m---> 76\u001b[0;31m             \u001b[0mself\u001b[0m\u001b[0;34m.\u001b[0m\u001b[0mraise_for_status\u001b[0m\u001b[0;34m(\u001b[0m\u001b[0mraw_response\u001b[0m\u001b[0;34m)\u001b[0m\u001b[0;34m\u001b[0m\u001b[0;34m\u001b[0m\u001b[0m\n\u001b[0m\u001b[1;32m     77\u001b[0m \u001b[0;34m\u001b[0m\u001b[0m\n\u001b[1;32m     78\u001b[0m     \u001b[0;32mdef\u001b[0m \u001b[0mraise_for_status\u001b[0m\u001b[0;34m(\u001b[0m\u001b[0mself\u001b[0m\u001b[0;34m,\u001b[0m \u001b[0mraw_response\u001b[0m\u001b[0;34m)\u001b[0m\u001b[0;34m:\u001b[0m\u001b[0;34m\u001b[0m\u001b[0;34m\u001b[0m\u001b[0m\n",
      "\u001b[0;32m~/miniconda3/lib/python3.7/site-packages/monkeylearn/response.py\u001b[0m in \u001b[0;36mraise_for_status\u001b[0;34m(self, raw_response)\u001b[0m\n\u001b[1;32m     95\u001b[0m             \u001b[0mexception_kwargs\u001b[0m\u001b[0;34m[\u001b[0m\u001b[0;34m'seconds_to_wait'\u001b[0m\u001b[0;34m]\u001b[0m \u001b[0;34m=\u001b[0m \u001b[0mseconds_to_wait\u001b[0m\u001b[0;34m\u001b[0m\u001b[0;34m\u001b[0m\u001b[0m\n\u001b[1;32m     96\u001b[0m \u001b[0;34m\u001b[0m\u001b[0m\n\u001b[0;32m---> 97\u001b[0;31m         \u001b[0;32mraise\u001b[0m \u001b[0mexception_class\u001b[0m\u001b[0;34m(\u001b[0m\u001b[0;34m**\u001b[0m\u001b[0mexception_kwargs\u001b[0m\u001b[0;34m)\u001b[0m\u001b[0;34m\u001b[0m\u001b[0;34m\u001b[0m\u001b[0m\n\u001b[0m",
      "\u001b[0;31mPlanQueryLimitError\u001b[0m: Error PLAN_QUERY_LIMIT: Request Throttled. You do not have enough queries left to perform this action. 54 queries are required, but you have 0 queries remaining."
     ]
    }
   ],
   "source": [
    "ml = MonkeyLearn('b1d53765815fa6a7910f0000a54b59c62abf9a58')\n",
    "title_data = posts['title'].tolist()\n",
    "body_data = posts['body'].tolist()\n",
    "model_id = 'cl_pi3C7JiL'\n",
    "title_result = ml.classifiers.classify(model_id, title_data)\n",
    "body_result = ml.classifiers.classify(model_id, body_data)"
   ]
  },
  {
   "cell_type": "code",
   "execution_count": 62,
   "metadata": {},
   "outputs": [],
   "source": [
    "classifications = []\n",
    "confidences = []\n",
    "for elem in result.body:\n",
    "    classifications.append(elem['classifications'][0]['tag_name'])\n",
    "    confidences.append(elem['classifications'][0]['confidence'])"
   ]
  },
  {
   "cell_type": "code",
   "execution_count": 63,
   "metadata": {},
   "outputs": [
    {
     "name": "stdout",
     "output_type": "stream",
     "text": [
      "['Neutral', 'Neutral', 'Neutral', 'Negative', 'Positive', 'Neutral', 'Neutral', 'Neutral', 'Neutral', 'Neutral', 'Negative', 'Neutral', 'Neutral', 'Neutral', 'Neutral', 'Neutral', 'Neutral', 'Positive', 'Neutral', 'Positive', 'Neutral', 'Neutral', 'Positive', 'Positive', 'Negative', 'Negative', 'Neutral', 'Neutral', 'Neutral', 'Negative', 'Neutral', 'Neutral', 'Positive', 'Neutral', 'Neutral', 'Neutral', 'Neutral', 'Negative', 'Neutral', 'Neutral', 'Negative', 'Neutral', 'Neutral', 'Positive', 'Neutral', 'Neutral', 'Neutral', 'Negative', 'Neutral', 'Neutral', 'Negative', 'Positive', 'Neutral', 'Negative', 'Neutral', 'Negative', 'Negative', 'Neutral', 'Neutral', 'Negative', 'Neutral', 'Negative', 'Negative', 'Neutral', 'Neutral', 'Negative', 'Negative', 'Neutral', 'Negative', 'Negative', 'Positive', 'Neutral', 'Neutral', 'Neutral', 'Neutral', 'Neutral', 'Neutral', 'Neutral', 'Neutral', 'Neutral', 'Neutral', 'Neutral', 'Negative', 'Negative', 'Neutral', 'Neutral', 'Neutral', 'Negative', 'Positive', 'Neutral', 'Neutral', 'Neutral', 'Negative', 'Neutral', 'Positive', 'Neutral', 'Neutral', 'Neutral', 'Positive', 'Positive']\n"
     ]
    }
   ],
   "source": [
    "print(classifications)"
   ]
  },
  {
   "cell_type": "code",
   "execution_count": 64,
   "metadata": {},
   "outputs": [
    {
     "name": "stdout",
     "output_type": "stream",
     "text": [
      "[0.83, 0.788, 0.874, 0.797, 0.683, 0.858, 0.851, 0.655, 0.716, 0.86, 0.649, 0.613, 0.793, 0.884, 0.507, 0.917, 0.807, 0.478, 0.739, 0.693, 0.82, 0.648, 0.742, 0.591, 0.549, 0.718, 0.754, 0.952, 0.658, 0.523, 0.538, 0.812, 0.965, 0.811, 0.581, 0.519, 0.896, 0.999, 0.689, 0.926, 0.949, 0.529, 0.961, 0.587, 0.593, 0.849, 0.858, 0.939, 0.617, 0.818, 0.893, 0.696, 0.502, 0.963, 0.789, 0.506, 0.86, 0.804, 0.489, 0.492, 0.857, 0.998, 0.929, 0.79, 0.796, 0.634, 0.882, 0.493, 0.503, 0.556, 0.685, 0.851, 0.541, 0.837, 0.731, 0.764, 0.924, 0.613, 0.801, 0.48, 0.837, 0.837, 0.99, 0.658, 0.504, 0.841, 0.494, 0.514, 0.74, 0.645, 0.786, 0.464, 0.732, 0.913, 0.882, 0.857, 0.809, 0.813, 0.986, 0.829]\n"
     ]
    }
   ],
   "source": [
    "print(confidences)"
   ]
  },
  {
   "cell_type": "code",
   "execution_count": 65,
   "metadata": {},
   "outputs": [
    {
     "data": {
      "text/plain": [
       "<AxesSubplot:>"
      ]
     },
     "execution_count": 65,
     "metadata": {},
     "output_type": "execute_result"
    },
    {
     "data": {
      "image/png": "[encoded data removed]",
      "text/plain": [
       "<Figure size 432x288 with 1 Axes>"
      ]
     },
     "metadata": {
      "needs_background": "light"
     },
     "output_type": "display_data"
    }
   ],
   "source": [
    "pd.Series(classifications).value_counts().plot(kind='bar')"
   ]
  },
  {
   "cell_type": "code",
   "execution_count": 66,
   "metadata": {},
   "outputs": [
    {
     "data": {
      "image/png": "[encoded data removed]",
      "text/plain": [
       "<Figure size 432x288 with 1 Axes>"
      ]
     },
     "metadata": {
      "needs_background": "light"
     },
     "output_type": "display_data"
    }
   ],
   "source": [
    "plt.hist(confidences, bins=10, range=(0,1), histtype='bar')\n",
    "plt.ylabel('Number of Titles')\n",
    "plt.xlabel('Confidence Level')\n",
    "plt.title('Whoop SubReddit Titles Grouped by Confidence Score')\n",
    "plt.xticks(np.arange(0, 1, step=0.1))\n",
    "plt.show()"
   ]
  },
  {
   "cell_type": "code",
   "execution_count": null,
   "metadata": {},
   "outputs": [],
   "source": []
  }
 ],
 "metadata": {
  "kernelspec": {
   "display_name": "Python 3",
   "language": "python",
   "name": "python3"
  },
  "language_info": {
   "codemirror_mode": {
    "name": "ipython",
    "version": 3
   },
   "file_extension": ".py",
   "mimetype": "text/x-python",
   "name": "python",
   "nbconvert_exporter": "python",
   "pygments_lexer": "ipython3",
   "version": "3.7.3"
  }
 },
 "nbformat": 4,
 "nbformat_minor": 4
}
